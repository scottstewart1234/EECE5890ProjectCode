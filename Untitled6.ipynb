{
  "nbformat": 4,
  "nbformat_minor": 0,
  "metadata": {
    "colab": {
      "name": "Untitled6.ipynb",
      "provenance": [],
      "authorship_tag": "ABX9TyMqbbZgaZwhyl0HtkHjrBoO"
    },
    "kernelspec": {
      "name": "python3",
      "display_name": "Python 3"
    }
  },
  "cells": [
    {
      "cell_type": "code",
      "metadata": {
        "id": "2uNCsnLvQo9c",
        "colab_type": "code",
        "colab": {
          "base_uri": "https://localhost:8080/",
          "height": 35
        },
        "outputId": "fba8c6ac-559e-4990-cecf-a7206666571d"
      },
      "source": [
        "a=1.0\n",
        "\n",
        "type(a)"
      ],
      "execution_count": 2,
      "outputs": [
        {
          "output_type": "execute_result",
          "data": {
            "text/plain": [
              "float"
            ]
          },
          "metadata": {
            "tags": []
          },
          "execution_count": 2
        }
      ]
    },
    {
      "cell_type": "code",
      "metadata": {
        "id": "Yx3hbp51RAgY",
        "colab_type": "code",
        "colab": {
          "base_uri": "https://localhost:8080/",
          "height": 197
        },
        "outputId": "342578aa-208d-43c4-ac1f-ac2d0f0ae045"
      },
      "source": [
        "for i in range(0,10):\n",
        "  print(i)"
      ],
      "execution_count": 3,
      "outputs": [
        {
          "output_type": "stream",
          "text": [
            "0\n",
            "1\n",
            "2\n",
            "3\n",
            "4\n",
            "5\n",
            "6\n",
            "7\n",
            "8\n",
            "9\n"
          ],
          "name": "stdout"
        }
      ]
    },
    {
      "cell_type": "code",
      "metadata": {
        "id": "fQO1_j9JROg_",
        "colab_type": "code",
        "colab": {
          "base_uri": "https://localhost:8080/",
          "height": 197
        },
        "outputId": "f742377d-ad10-473d-9790-133e3cb92d68"
      },
      "source": [
        "i=0\n",
        "while(i<10):\n",
        "  print(i)\n",
        "  i+=1"
      ],
      "execution_count": 6,
      "outputs": [
        {
          "output_type": "stream",
          "text": [
            "0\n",
            "1\n",
            "2\n",
            "3\n",
            "4\n",
            "5\n",
            "6\n",
            "7\n",
            "8\n",
            "9\n"
          ],
          "name": "stdout"
        }
      ]
    },
    {
      "cell_type": "code",
      "metadata": {
        "id": "puP65ndWRqAq",
        "colab_type": "code",
        "colab": {
          "base_uri": "https://localhost:8080/",
          "height": 71
        },
        "outputId": "a466733e-34f9-4448-8f7d-ecca9274b1c6"
      },
      "source": [
        " nameList= ['a','b']\n",
        " print(nameList)\n",
        " numList = [1,\"Scott\",3.0,4]\n",
        " print(numList)\n",
        " numList.append([1,2,3])\n",
        " print(numList)"
      ],
      "execution_count": 12,
      "outputs": [
        {
          "output_type": "stream",
          "text": [
            "['a', 'b']\n",
            "[1, 'Scott', 3.0, 4]\n",
            "[1, 'Scott', 3.0, 4, [1, 2, 3]]\n"
          ],
          "name": "stdout"
        }
      ]
    },
    {
      "cell_type": "code",
      "metadata": {
        "id": "-R7ClPo1TSaw",
        "colab_type": "code",
        "colab": {}
      },
      "source": [
        "names_dict={'s':220, 'c':110}"
      ],
      "execution_count": 13,
      "outputs": []
    },
    {
      "cell_type": "code",
      "metadata": {
        "id": "cdqNLFv5SKR4",
        "colab_type": "code",
        "colab": {
          "base_uri": "https://localhost:8080/",
          "height": 53
        },
        "outputId": "8f1d9242-3a89-4dac-8ac7-182ed6b1a792"
      },
      "source": [
        "print(names_dict['s'])\n",
        "print(names_dict)"
      ],
      "execution_count": 15,
      "outputs": [
        {
          "output_type": "stream",
          "text": [
            "220\n",
            "{'s': 220, 'c': 110}\n"
          ],
          "name": "stdout"
        }
      ]
    },
    {
      "cell_type": "code",
      "metadata": {
        "id": "2yVDkrUrT0DR",
        "colab_type": "code",
        "colab": {
          "base_uri": "https://localhost:8080/",
          "height": 35
        },
        "outputId": "068d6665-2079-4667-95a8-4b09957956f8"
      },
      "source": [
        "\n",
        "\n",
        "numbers_dict = {1:'a',2:'3'}\n",
        "print(numbers_dict[1])"
      ],
      "execution_count": 16,
      "outputs": [
        {
          "output_type": "stream",
          "text": [
            "a\n"
          ],
          "name": "stdout"
        }
      ]
    },
    {
      "cell_type": "code",
      "metadata": {
        "id": "c1UhFStqUPc1",
        "colab_type": "code",
        "colab": {
          "base_uri": "https://localhost:8080/",
          "height": 35
        },
        "outputId": "6cfb0f89-dfef-419a-b2e6-1a08bda41aa5"
      },
      "source": [
        "tup= ('h','r','m')\n",
        "print(tup[0])"
      ],
      "execution_count": 17,
      "outputs": [
        {
          "output_type": "stream",
          "text": [
            "h\n"
          ],
          "name": "stdout"
        }
      ]
    },
    {
      "cell_type": "code",
      "metadata": {
        "id": "60VcqYlnU4T_",
        "colab_type": "code",
        "colab": {
          "base_uri": "https://localhost:8080/",
          "height": 261
        },
        "outputId": "5c7a692a-dae2-43e5-f13d-8b2a7200b52a"
      },
      "source": [
        "tup[0]= \"Scott\""
      ],
      "execution_count": 18,
      "outputs": [
        {
          "output_type": "error",
          "ename": "TypeError",
          "evalue": "ignored",
          "traceback": [
            "\u001b[0;31m---------------------------------------------------------------------------\u001b[0m",
            "\u001b[0;31mTypeError\u001b[0m                                 Traceback (most recent call last)",
            "\u001b[0;32m<ipython-input-18-6236bd878bb7>\u001b[0m in \u001b[0;36m<module>\u001b[0;34m()\u001b[0m\n\u001b[0;32m----> 1\u001b[0;31m \u001b[0mtup\u001b[0m\u001b[0;34m[\u001b[0m\u001b[0;36m0\u001b[0m\u001b[0;34m]\u001b[0m\u001b[0;34m=\u001b[0m \u001b[0;34m\"Scott\"\u001b[0m\u001b[0;34m\u001b[0m\u001b[0;34m\u001b[0m\u001b[0m\n\u001b[0m",
            "\u001b[0;31mTypeError\u001b[0m: 'tuple' object does not support item assignment"
          ]
        }
      ]
    },
    {
      "cell_type": "code",
      "metadata": {
        "id": "hWlq2aq9VDNM",
        "colab_type": "code",
        "colab": {}
      },
      "source": [
        ""
      ],
      "execution_count": null,
      "outputs": []
    },
    {
      "cell_type": "code",
      "metadata": {
        "id": "iLGwGr-hVZfW",
        "colab_type": "code",
        "colab": {}
      },
      "source": [
        "fullname_Dict={('Henry','M'):'Inst',('Reza','M'):'TA'}"
      ],
      "execution_count": 20,
      "outputs": []
    },
    {
      "cell_type": "code",
      "metadata": {
        "id": "TGkiVfSNVyOk",
        "colab_type": "code",
        "colab": {
          "base_uri": "https://localhost:8080/",
          "height": 35
        },
        "outputId": "d22fbc1d-18ce-4ac9-a558-64e6cf2fa631"
      },
      "source": [
        "print(fullname_Dict[('Henry','M')])"
      ],
      "execution_count": 22,
      "outputs": [
        {
          "output_type": "stream",
          "text": [
            "Inst\n"
          ],
          "name": "stdout"
        }
      ]
    },
    {
      "cell_type": "code",
      "metadata": {
        "id": "3Q-wopeTWEAa",
        "colab_type": "code",
        "colab": {}
      },
      "source": [
        "names_set = {'Scott', 'Henry', 'Scott', 'Reza'}"
      ],
      "execution_count": 23,
      "outputs": []
    },
    {
      "cell_type": "code",
      "metadata": {
        "id": "5kVNGeBGWSwM",
        "colab_type": "code",
        "colab": {
          "base_uri": "https://localhost:8080/",
          "height": 53
        },
        "outputId": "80ad576b-f279-42d4-f7e3-a275c66f1c49"
      },
      "source": [
        "print(names_set)\n",
        "names_set = names_set.union({'a'})\n",
        "print(names_set)"
      ],
      "execution_count": 25,
      "outputs": [
        {
          "output_type": "stream",
          "text": [
            "{'Henry', 'Scott', 'Reza'}\n",
            "{'a', 'Henry', 'Scott', 'Reza'}\n"
          ],
          "name": "stdout"
        }
      ]
    },
    {
      "cell_type": "code",
      "metadata": {
        "id": "DThb2dNVWwkQ",
        "colab_type": "code",
        "colab": {}
      },
      "source": [
        "fo = open('words.txt','a+')\n",
        "fo.write('words')\n",
        "fo.close()"
      ],
      "execution_count": 39,
      "outputs": []
    },
    {
      "cell_type": "code",
      "metadata": {
        "id": "wM6cd3vOXzKI",
        "colab_type": "code",
        "colab": {}
      },
      "source": [
        "from google.colab import  files"
      ],
      "execution_count": 36,
      "outputs": []
    },
    {
      "cell_type": "code",
      "metadata": {
        "id": "SXgGEneFYU1R",
        "colab_type": "code",
        "colab": {}
      },
      "source": [
        "fo = files.upload()"
      ],
      "execution_count": null,
      "outputs": []
    }
  ]
}